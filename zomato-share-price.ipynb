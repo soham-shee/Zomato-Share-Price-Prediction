{
 "cells": [
  {
   "cell_type": "code",
   "execution_count": 1,
   "id": "32660c84",
   "metadata": {
    "_cell_guid": "b1076dfc-b9ad-4769-8c92-a6c4dae69d19",
    "_uuid": "8f2839f25d086af736a60e9eeb907d3b93b6e0e5",
    "execution": {
     "iopub.execute_input": "2024-03-16T20:56:20.731556Z",
     "iopub.status.busy": "2024-03-16T20:56:20.730504Z",
     "iopub.status.idle": "2024-03-16T20:56:23.049810Z",
     "shell.execute_reply": "2024-03-16T20:56:23.048555Z"
    },
    "papermill": {
     "duration": 2.329093,
     "end_time": "2024-03-16T20:56:23.052199",
     "exception": false,
     "start_time": "2024-03-16T20:56:20.723106",
     "status": "completed"
    },
    "tags": []
   },
   "outputs": [
    {
     "name": "stdout",
     "output_type": "stream",
     "text": [
      "/kaggle/input/zomato-stock-price/zomato.csv\n"
     ]
    }
   ],
   "source": [
    "# This Python 3 environment comes with many helpful analytics libraries installed\n",
    "# It is defined by the kaggle/python Docker image: https://github.com/kaggle/docker-python\n",
    "# For example, here's several helpful packages to load\n",
    "\n",
    "import math\n",
    "import numpy as np # linear algebra\n",
    "import pandas as pd # data processing, CSV file I/O (e.g. pd.read_csv)\n",
    "import matplotlib.pyplot as plt\n",
    "%matplotlib inline\n",
    "from sklearn import preprocessing\n",
    "from sklearn import metrics\n",
    "\n",
    "# Input data files are available in the read-only \"../input/\" directory\n",
    "# For example, running this (by clicking run or pressing Shift+Enter) will list all files under the input directory\n",
    "\n",
    "import os\n",
    "for dirname, _, filenames in os.walk('/kaggle/input'):\n",
    "    for filename in filenames:\n",
    "        print(os.path.join(dirname, filename))\n",
    "\n",
    "# You can write up to 20GB to the current directory (/kaggle/working/) that gets preserved as output when you create a version using \"Save & Run All\" \n",
    "# You can also write temporary files to /kaggle/temp/, but they won't be saved outside of the current session"
   ]
  },
  {
   "cell_type": "code",
   "execution_count": 2,
   "id": "fbb74ae7",
   "metadata": {
    "execution": {
     "iopub.execute_input": "2024-03-16T20:56:23.065968Z",
     "iopub.status.busy": "2024-03-16T20:56:23.064641Z",
     "iopub.status.idle": "2024-03-16T20:56:23.099466Z",
     "shell.execute_reply": "2024-03-16T20:56:23.098532Z"
    },
    "papermill": {
     "duration": 0.043823,
     "end_time": "2024-03-16T20:56:23.101596",
     "exception": false,
     "start_time": "2024-03-16T20:56:23.057773",
     "status": "completed"
    },
    "tags": []
   },
   "outputs": [
    {
     "data": {
      "text/html": [
       "<div>\n",
       "<style scoped>\n",
       "    .dataframe tbody tr th:only-of-type {\n",
       "        vertical-align: middle;\n",
       "    }\n",
       "\n",
       "    .dataframe tbody tr th {\n",
       "        vertical-align: top;\n",
       "    }\n",
       "\n",
       "    .dataframe thead th {\n",
       "        text-align: right;\n",
       "    }\n",
       "</style>\n",
       "<table border=\"1\" class=\"dataframe\">\n",
       "  <thead>\n",
       "    <tr style=\"text-align: right;\">\n",
       "      <th></th>\n",
       "      <th>Date</th>\n",
       "      <th>Open</th>\n",
       "      <th>High</th>\n",
       "      <th>Low</th>\n",
       "      <th>Close</th>\n",
       "      <th>Adj Close</th>\n",
       "      <th>Volume</th>\n",
       "    </tr>\n",
       "  </thead>\n",
       "  <tbody>\n",
       "    <tr>\n",
       "      <th>0</th>\n",
       "      <td>2021-07-23</td>\n",
       "      <td>116.000000</td>\n",
       "      <td>138.899994</td>\n",
       "      <td>115.000000</td>\n",
       "      <td>126.000000</td>\n",
       "      <td>126.000000</td>\n",
       "      <td>694895290</td>\n",
       "    </tr>\n",
       "    <tr>\n",
       "      <th>1</th>\n",
       "      <td>2021-07-26</td>\n",
       "      <td>126.349998</td>\n",
       "      <td>143.750000</td>\n",
       "      <td>125.300003</td>\n",
       "      <td>140.649994</td>\n",
       "      <td>140.649994</td>\n",
       "      <td>249723854</td>\n",
       "    </tr>\n",
       "    <tr>\n",
       "      <th>2</th>\n",
       "      <td>2021-07-27</td>\n",
       "      <td>141.699997</td>\n",
       "      <td>147.800003</td>\n",
       "      <td>127.750000</td>\n",
       "      <td>132.899994</td>\n",
       "      <td>132.899994</td>\n",
       "      <td>240341900</td>\n",
       "    </tr>\n",
       "    <tr>\n",
       "      <th>3</th>\n",
       "      <td>2021-07-28</td>\n",
       "      <td>131.000000</td>\n",
       "      <td>135.000000</td>\n",
       "      <td>123.550003</td>\n",
       "      <td>131.199997</td>\n",
       "      <td>131.199997</td>\n",
       "      <td>159793731</td>\n",
       "    </tr>\n",
       "    <tr>\n",
       "      <th>4</th>\n",
       "      <td>2021-07-29</td>\n",
       "      <td>134.949997</td>\n",
       "      <td>144.000000</td>\n",
       "      <td>132.199997</td>\n",
       "      <td>141.550003</td>\n",
       "      <td>141.550003</td>\n",
       "      <td>117973089</td>\n",
       "    </tr>\n",
       "  </tbody>\n",
       "</table>\n",
       "</div>"
      ],
      "text/plain": [
       "         Date        Open        High         Low       Close   Adj Close  \\\n",
       "0  2021-07-23  116.000000  138.899994  115.000000  126.000000  126.000000   \n",
       "1  2021-07-26  126.349998  143.750000  125.300003  140.649994  140.649994   \n",
       "2  2021-07-27  141.699997  147.800003  127.750000  132.899994  132.899994   \n",
       "3  2021-07-28  131.000000  135.000000  123.550003  131.199997  131.199997   \n",
       "4  2021-07-29  134.949997  144.000000  132.199997  141.550003  141.550003   \n",
       "\n",
       "      Volume  \n",
       "0  694895290  \n",
       "1  249723854  \n",
       "2  240341900  \n",
       "3  159793731  \n",
       "4  117973089  "
      ]
     },
     "execution_count": 2,
     "metadata": {},
     "output_type": "execute_result"
    }
   ],
   "source": [
    "train=pd.read_csv(\"/kaggle/input/zomato-stock-price/zomato.csv\")\n",
    "train.head()"
   ]
  },
  {
   "cell_type": "code",
   "execution_count": 3,
   "id": "886cbfe3",
   "metadata": {
    "execution": {
     "iopub.execute_input": "2024-03-16T20:56:23.114960Z",
     "iopub.status.busy": "2024-03-16T20:56:23.114432Z",
     "iopub.status.idle": "2024-03-16T20:56:23.128901Z",
     "shell.execute_reply": "2024-03-16T20:56:23.127950Z"
    },
    "papermill": {
     "duration": 0.023692,
     "end_time": "2024-03-16T20:56:23.130891",
     "exception": false,
     "start_time": "2024-03-16T20:56:23.107199",
     "status": "completed"
    },
    "tags": []
   },
   "outputs": [],
   "source": [
    "x=train[['Open','High','Low','Volume']]\n",
    "y=train['Close']"
   ]
  },
  {
   "cell_type": "code",
   "execution_count": 4,
   "id": "9e33494e",
   "metadata": {
    "execution": {
     "iopub.execute_input": "2024-03-16T20:56:23.144424Z",
     "iopub.status.busy": "2024-03-16T20:56:23.143631Z",
     "iopub.status.idle": "2024-03-16T20:56:23.166179Z",
     "shell.execute_reply": "2024-03-16T20:56:23.164533Z"
    },
    "papermill": {
     "duration": 0.031716,
     "end_time": "2024-03-16T20:56:23.168346",
     "exception": false,
     "start_time": "2024-03-16T20:56:23.136630",
     "status": "completed"
    },
    "tags": []
   },
   "outputs": [
    {
     "name": "stdout",
     "output_type": "stream",
     "text": [
      "<class 'pandas.core.frame.DataFrame'>\n",
      "RangeIndex: 631 entries, 0 to 630\n",
      "Data columns (total 7 columns):\n",
      " #   Column     Non-Null Count  Dtype  \n",
      "---  ------     --------------  -----  \n",
      " 0   Date       631 non-null    object \n",
      " 1   Open       631 non-null    float64\n",
      " 2   High       631 non-null    float64\n",
      " 3   Low        631 non-null    float64\n",
      " 4   Close      631 non-null    float64\n",
      " 5   Adj Close  631 non-null    float64\n",
      " 6   Volume     631 non-null    int64  \n",
      "dtypes: float64(5), int64(1), object(1)\n",
      "memory usage: 34.6+ KB\n"
     ]
    }
   ],
   "source": [
    "train.info()"
   ]
  },
  {
   "cell_type": "code",
   "execution_count": 5,
   "id": "891ddec3",
   "metadata": {
    "execution": {
     "iopub.execute_input": "2024-03-16T20:56:23.181972Z",
     "iopub.status.busy": "2024-03-16T20:56:23.181128Z",
     "iopub.status.idle": "2024-03-16T20:56:23.187016Z",
     "shell.execute_reply": "2024-03-16T20:56:23.185630Z"
    },
    "papermill": {
     "duration": 0.015281,
     "end_time": "2024-03-16T20:56:23.189229",
     "exception": false,
     "start_time": "2024-03-16T20:56:23.173948",
     "status": "completed"
    },
    "tags": []
   },
   "outputs": [
    {
     "name": "stdout",
     "output_type": "stream",
     "text": [
      "631\n"
     ]
    }
   ],
   "source": [
    "print(len(train))"
   ]
  },
  {
   "cell_type": "code",
   "execution_count": 6,
   "id": "2a786531",
   "metadata": {
    "execution": {
     "iopub.execute_input": "2024-03-16T20:56:23.203705Z",
     "iopub.status.busy": "2024-03-16T20:56:23.202676Z",
     "iopub.status.idle": "2024-03-16T20:56:23.233187Z",
     "shell.execute_reply": "2024-03-16T20:56:23.232079Z"
    },
    "papermill": {
     "duration": 0.040874,
     "end_time": "2024-03-16T20:56:23.235950",
     "exception": false,
     "start_time": "2024-03-16T20:56:23.195076",
     "status": "completed"
    },
    "tags": []
   },
   "outputs": [],
   "source": [
    "from sklearn.model_selection import train_test_split\n",
    "x_train , x_test , y_train , y_test = train_test_split(x , y , random_state = 0)"
   ]
  },
  {
   "cell_type": "code",
   "execution_count": 7,
   "id": "1222dce5",
   "metadata": {
    "execution": {
     "iopub.execute_input": "2024-03-16T20:56:23.249564Z",
     "iopub.status.busy": "2024-03-16T20:56:23.249159Z",
     "iopub.status.idle": "2024-03-16T20:56:27.250500Z",
     "shell.execute_reply": "2024-03-16T20:56:27.249349Z"
    },
    "papermill": {
     "duration": 4.011387,
     "end_time": "2024-03-16T20:56:27.253326",
     "exception": false,
     "start_time": "2024-03-16T20:56:23.241939",
     "status": "completed"
    },
    "tags": []
   },
   "outputs": [
    {
     "data": {
      "image/png": "[encoded data removed]",
      "text/plain": [
       "<Figure size 800x600 with 1 Axes>"
      ]
     },
     "metadata": {},
     "output_type": "display_data"
    }
   ],
   "source": [
    "# Before Normalization: \n",
    "plt.figure(figsize=(8, 6))\n",
    "plt.plot(train['Date'], train['Open'], label='Open Price', color='blue')\n",
    "plt.plot(train['Date'], train['Close'], label='Close Price', color='red')\n",
    "plt.title('Stock Open-Close Price Chart')\n",
    "plt.xlabel('Date')\n",
    "plt.ylabel('Price')\n",
    "plt.legend()\n",
    "\n",
    "plt.show()"
   ]
  },
  {
   "cell_type": "code",
   "execution_count": 8,
   "id": "0527a2d0",
   "metadata": {
    "execution": {
     "iopub.execute_input": "2024-03-16T20:56:27.268562Z",
     "iopub.status.busy": "2024-03-16T20:56:27.268170Z",
     "iopub.status.idle": "2024-03-16T20:56:27.367700Z",
     "shell.execute_reply": "2024-03-16T20:56:27.366621Z"
    },
    "papermill": {
     "duration": 0.110327,
     "end_time": "2024-03-16T20:56:27.370385",
     "exception": false,
     "start_time": "2024-03-16T20:56:27.260058",
     "status": "completed"
    },
    "tags": []
   },
   "outputs": [],
   "source": [
    "from sklearn.linear_model import LinearRegression\n",
    "from sklearn.metrics import confusion_matrix , accuracy_score\n",
    "model = LinearRegression()"
   ]
  },
  {
   "cell_type": "markdown",
   "id": "37dc7b21",
   "metadata": {
    "papermill": {
     "duration": 0.006272,
     "end_time": "2024-03-16T20:56:27.383471",
     "exception": false,
     "start_time": "2024-03-16T20:56:27.377199",
     "status": "completed"
    },
    "tags": []
   },
   "source": []
  },
  {
   "cell_type": "code",
   "execution_count": 9,
   "id": "8ad8edd3",
   "metadata": {
    "execution": {
     "iopub.execute_input": "2024-03-16T20:56:27.398581Z",
     "iopub.status.busy": "2024-03-16T20:56:27.398201Z",
     "iopub.status.idle": "2024-03-16T20:56:27.428106Z",
     "shell.execute_reply": "2024-03-16T20:56:27.426776Z"
    },
    "papermill": {
     "duration": 0.040489,
     "end_time": "2024-03-16T20:56:27.430867",
     "exception": false,
     "start_time": "2024-03-16T20:56:27.390378",
     "status": "completed"
    },
    "tags": []
   },
   "outputs": [
    {
     "data": {
      "text/html": [
       "<style>#sk-container-id-1 {color: black;background-color: white;}#sk-container-id-1 pre{padding: 0;}#sk-container-id-1 div.sk-toggleable {background-color: white;}#sk-container-id-1 label.sk-toggleable__label {cursor: pointer;display: block;width: 100%;margin-bottom: 0;padding: 0.3em;box-sizing: border-box;text-align: center;}#sk-container-id-1 label.sk-toggleable__label-arrow:before {content: \"▸\";float: left;margin-right: 0.25em;color: #696969;}#sk-container-id-1 label.sk-toggleable__label-arrow:hover:before {color: black;}#sk-container-id-1 div.sk-estimator:hover label.sk-toggleable__label-arrow:before {color: black;}#sk-container-id-1 div.sk-toggleable__content {max-height: 0;max-width: 0;overflow: hidden;text-align: left;background-color: #f0f8ff;}#sk-container-id-1 div.sk-toggleable__content pre {margin: 0.2em;color: black;border-radius: 0.25em;background-color: #f0f8ff;}#sk-container-id-1 input.sk-toggleable__control:checked~div.sk-toggleable__content {max-height: 200px;max-width: 100%;overflow: auto;}#sk-container-id-1 input.sk-toggleable__control:checked~label.sk-toggleable__label-arrow:before {content: \"▾\";}#sk-container-id-1 div.sk-estimator input.sk-toggleable__control:checked~label.sk-toggleable__label {background-color: #d4ebff;}#sk-container-id-1 div.sk-label input.sk-toggleable__control:checked~label.sk-toggleable__label {background-color: #d4ebff;}#sk-container-id-1 input.sk-hidden--visually {border: 0;clip: rect(1px 1px 1px 1px);clip: rect(1px, 1px, 1px, 1px);height: 1px;margin: -1px;overflow: hidden;padding: 0;position: absolute;width: 1px;}#sk-container-id-1 div.sk-estimator {font-family: monospace;background-color: #f0f8ff;border: 1px dotted black;border-radius: 0.25em;box-sizing: border-box;margin-bottom: 0.5em;}#sk-container-id-1 div.sk-estimator:hover {background-color: #d4ebff;}#sk-container-id-1 div.sk-parallel-item::after {content: \"\";width: 100%;border-bottom: 1px solid gray;flex-grow: 1;}#sk-container-id-1 div.sk-label:hover label.sk-toggleable__label {background-color: #d4ebff;}#sk-container-id-1 div.sk-serial::before {content: \"\";position: absolute;border-left: 1px solid gray;box-sizing: border-box;top: 0;bottom: 0;left: 50%;z-index: 0;}#sk-container-id-1 div.sk-serial {display: flex;flex-direction: column;align-items: center;background-color: white;padding-right: 0.2em;padding-left: 0.2em;position: relative;}#sk-container-id-1 div.sk-item {position: relative;z-index: 1;}#sk-container-id-1 div.sk-parallel {display: flex;align-items: stretch;justify-content: center;background-color: white;position: relative;}#sk-container-id-1 div.sk-item::before, #sk-container-id-1 div.sk-parallel-item::before {content: \"\";position: absolute;border-left: 1px solid gray;box-sizing: border-box;top: 0;bottom: 0;left: 50%;z-index: -1;}#sk-container-id-1 div.sk-parallel-item {display: flex;flex-direction: column;z-index: 1;position: relative;background-color: white;}#sk-container-id-1 div.sk-parallel-item:first-child::after {align-self: flex-end;width: 50%;}#sk-container-id-1 div.sk-parallel-item:last-child::after {align-self: flex-start;width: 50%;}#sk-container-id-1 div.sk-parallel-item:only-child::after {width: 0;}#sk-container-id-1 div.sk-dashed-wrapped {border: 1px dashed gray;margin: 0 0.4em 0.5em 0.4em;box-sizing: border-box;padding-bottom: 0.4em;background-color: white;}#sk-container-id-1 div.sk-label label {font-family: monospace;font-weight: bold;display: inline-block;line-height: 1.2em;}#sk-container-id-1 div.sk-label-container {text-align: center;}#sk-container-id-1 div.sk-container {/* jupyter's `normalize.less` sets `[hidden] { display: none; }` but bootstrap.min.css set `[hidden] { display: none !important; }` so we also need the `!important` here to be able to override the default hidden behavior on the sphinx rendered scikit-learn.org. See: https://github.com/scikit-learn/scikit-learn/issues/21755 */display: inline-block !important;position: relative;}#sk-container-id-1 div.sk-text-repr-fallback {display: none;}</style><div id=\"sk-container-id-1\" class=\"sk-top-container\"><div class=\"sk-text-repr-fallback\"><pre>LinearRegression()</pre><b>In a Jupyter environment, please rerun this cell to show the HTML representation or trust the notebook. <br />On GitHub, the HTML representation is unable to render, please try loading this page with nbviewer.org.</b></div><div class=\"sk-container\" hidden><div class=\"sk-item\"><div class=\"sk-estimator sk-toggleable\"><input class=\"sk-toggleable__control sk-hidden--visually\" id=\"sk-estimator-id-1\" type=\"checkbox\" checked><label for=\"sk-estimator-id-1\" class=\"sk-toggleable__label sk-toggleable__label-arrow\">LinearRegression</label><div class=\"sk-toggleable__content\"><pre>LinearRegression()</pre></div></div></div></div></div>"
      ],
      "text/plain": [
       "LinearRegression()"
      ]
     },
     "execution_count": 9,
     "metadata": {},
     "output_type": "execute_result"
    }
   ],
   "source": [
    "model.fit(x_train,y_train)"
   ]
  },
  {
   "cell_type": "code",
   "execution_count": 10,
   "id": "20460738",
   "metadata": {
    "execution": {
     "iopub.execute_input": "2024-03-16T20:56:27.447654Z",
     "iopub.status.busy": "2024-03-16T20:56:27.447204Z",
     "iopub.status.idle": "2024-03-16T20:56:27.453316Z",
     "shell.execute_reply": "2024-03-16T20:56:27.452191Z"
    },
    "papermill": {
     "duration": 0.01775,
     "end_time": "2024-03-16T20:56:27.455477",
     "exception": false,
     "start_time": "2024-03-16T20:56:27.437727",
     "status": "completed"
    },
    "tags": []
   },
   "outputs": [
    {
     "name": "stdout",
     "output_type": "stream",
     "text": [
      "[-5.01851352e-01  7.45342929e-01  7.58445394e-01 -5.27122013e-10]\n"
     ]
    }
   ],
   "source": [
    "print(model.coef_)"
   ]
  },
  {
   "cell_type": "code",
   "execution_count": 11,
   "id": "1e56df14",
   "metadata": {
    "execution": {
     "iopub.execute_input": "2024-03-16T20:56:27.471347Z",
     "iopub.status.busy": "2024-03-16T20:56:27.470899Z",
     "iopub.status.idle": "2024-03-16T20:56:27.476561Z",
     "shell.execute_reply": "2024-03-16T20:56:27.475689Z"
    },
    "papermill": {
     "duration": 0.016228,
     "end_time": "2024-03-16T20:56:27.478818",
     "exception": false,
     "start_time": "2024-03-16T20:56:27.462590",
     "status": "completed"
    },
    "tags": []
   },
   "outputs": [
    {
     "name": "stdout",
     "output_type": "stream",
     "text": [
      "-0.22073613956887073\n"
     ]
    }
   ],
   "source": [
    "print(model.intercept_)"
   ]
  },
  {
   "cell_type": "code",
   "execution_count": 12,
   "id": "fc71616b",
   "metadata": {
    "execution": {
     "iopub.execute_input": "2024-03-16T20:56:27.496001Z",
     "iopub.status.busy": "2024-03-16T20:56:27.495573Z",
     "iopub.status.idle": "2024-03-16T20:56:27.502525Z",
     "shell.execute_reply": "2024-03-16T20:56:27.501309Z"
    },
    "papermill": {
     "duration": 0.018495,
     "end_time": "2024-03-16T20:56:27.504711",
     "exception": false,
     "start_time": "2024-03-16T20:56:27.486216",
     "status": "completed"
    },
    "tags": []
   },
   "outputs": [],
   "source": [
    "predicted=model.predict(x_test)"
   ]
  },
  {
   "cell_type": "code",
   "execution_count": 13,
   "id": "b694b936",
   "metadata": {
    "execution": {
     "iopub.execute_input": "2024-03-16T20:56:27.520905Z",
     "iopub.status.busy": "2024-03-16T20:56:27.520459Z",
     "iopub.status.idle": "2024-03-16T20:56:27.530276Z",
     "shell.execute_reply": "2024-03-16T20:56:27.529071Z"
    },
    "papermill": {
     "duration": 0.020678,
     "end_time": "2024-03-16T20:56:27.532696",
     "exception": false,
     "start_time": "2024-03-16T20:56:27.512018",
     "status": "completed"
    },
    "tags": []
   },
   "outputs": [
    {
     "name": "stdout",
     "output_type": "stream",
     "text": [
      "           Open        High         Low    Volume\n",
      "391   50.799999   51.799999   50.450001  48841966\n",
      "439   63.450001   64.949997   63.150002  65082316\n",
      "311   62.900002   62.950001   62.049999   7775480\n",
      "249   53.750000   54.000000   52.900002  27302087\n",
      "481   75.449997   77.250000   74.550003  49243205\n",
      "..          ...         ...         ...       ...\n",
      "132   95.750000   99.750000   94.800003  18674088\n",
      "581  114.900002  116.900002  113.500000  61963724\n",
      "541   99.900002  101.199997   98.500000  34894254\n",
      "97   144.699997  144.949997  140.000000  19474412\n",
      "611  134.250000  136.149994  132.250000  29917881\n",
      "\n",
      "[158 rows x 4 columns]\n"
     ]
    }
   ],
   "source": [
    "print(x_test)"
   ]
  },
  {
   "cell_type": "code",
   "execution_count": 14,
   "id": "3552add7",
   "metadata": {
    "execution": {
     "iopub.execute_input": "2024-03-16T20:56:27.548921Z",
     "iopub.status.busy": "2024-03-16T20:56:27.548459Z",
     "iopub.status.idle": "2024-03-16T20:56:27.555014Z",
     "shell.execute_reply": "2024-03-16T20:56:27.554085Z"
    },
    "papermill": {
     "duration": 0.017915,
     "end_time": "2024-03-16T20:56:27.557781",
     "exception": false,
     "start_time": "2024-03-16T20:56:27.539866",
     "status": "completed"
    },
    "tags": []
   },
   "outputs": [],
   "source": [
    "newdf=pd.DataFrame({'Actual':y_test,'Predicted Price':predicted})"
   ]
  },
  {
   "cell_type": "code",
   "execution_count": 15,
   "id": "0e4816e6",
   "metadata": {
    "execution": {
     "iopub.execute_input": "2024-03-16T20:56:27.575982Z",
     "iopub.status.busy": "2024-03-16T20:56:27.575555Z",
     "iopub.status.idle": "2024-03-16T20:56:27.585086Z",
     "shell.execute_reply": "2024-03-16T20:56:27.583650Z"
    },
    "papermill": {
     "duration": 0.022343,
     "end_time": "2024-03-16T20:56:27.587421",
     "exception": false,
     "start_time": "2024-03-16T20:56:27.565078",
     "status": "completed"
    },
    "tags": []
   },
   "outputs": [
    {
     "name": "stdout",
     "output_type": "stream",
     "text": [
      "         Actual  Predicted Price\n",
      "391   51.400002        51.131804\n",
      "439   63.549999        64.208338\n",
      "311   62.349998        62.189588\n",
      "249   53.650002        53.160643\n",
      "481   75.650002        76.008471\n",
      "..          ...              ...\n",
      "132   98.900002        97.965736\n",
      "581  113.800003       115.298022\n",
      "541  100.099998        99.761493\n",
      "97   140.649994       141.370920\n",
      "611  134.649994       134.172788\n",
      "\n",
      "[158 rows x 2 columns]\n"
     ]
    }
   ],
   "source": [
    "print(newdf)"
   ]
  },
  {
   "cell_type": "code",
   "execution_count": 16,
   "id": "f73a093e",
   "metadata": {
    "execution": {
     "iopub.execute_input": "2024-03-16T20:56:27.604140Z",
     "iopub.status.busy": "2024-03-16T20:56:27.603695Z",
     "iopub.status.idle": "2024-03-16T20:56:27.616351Z",
     "shell.execute_reply": "2024-03-16T20:56:27.615164Z"
    },
    "papermill": {
     "duration": 0.024008,
     "end_time": "2024-03-16T20:56:27.618760",
     "exception": false,
     "start_time": "2024-03-16T20:56:27.594752",
     "status": "completed"
    },
    "tags": []
   },
   "outputs": [
    {
     "name": "stdout",
     "output_type": "stream",
     "text": [
      "<class 'pandas.core.frame.DataFrame'>\n",
      "Index: 158 entries, 391 to 611\n",
      "Data columns (total 2 columns):\n",
      " #   Column           Non-Null Count  Dtype  \n",
      "---  ------           --------------  -----  \n",
      " 0   Actual           158 non-null    float64\n",
      " 1   Predicted Price  158 non-null    float64\n",
      "dtypes: float64(2)\n",
      "memory usage: 3.7 KB\n"
     ]
    }
   ],
   "source": [
    "newdf.info()"
   ]
  },
  {
   "cell_type": "code",
   "execution_count": 17,
   "id": "c563c270",
   "metadata": {
    "execution": {
     "iopub.execute_input": "2024-03-16T20:56:27.636365Z",
     "iopub.status.busy": "2024-03-16T20:56:27.635260Z",
     "iopub.status.idle": "2024-03-16T20:56:27.645850Z",
     "shell.execute_reply": "2024-03-16T20:56:27.644674Z"
    },
    "papermill": {
     "duration": 0.022251,
     "end_time": "2024-03-16T20:56:27.648293",
     "exception": false,
     "start_time": "2024-03-16T20:56:27.626042",
     "status": "completed"
    },
    "tags": []
   },
   "outputs": [
    {
     "data": {
      "text/plain": [
       "0.9985348308766752"
      ]
     },
     "execution_count": 17,
     "metadata": {},
     "output_type": "execute_result"
    }
   ],
   "source": [
    "from sklearn.metrics import confusion_matrix , accuracy_score\n",
    "model.score(x_test,y_test)"
   ]
  },
  {
   "cell_type": "code",
   "execution_count": 18,
   "id": "6b106e49",
   "metadata": {
    "execution": {
     "iopub.execute_input": "2024-03-16T20:56:27.664992Z",
     "iopub.status.busy": "2024-03-16T20:56:27.664592Z",
     "iopub.status.idle": "2024-03-16T20:56:27.671053Z",
     "shell.execute_reply": "2024-03-16T20:56:27.669956Z"
    },
    "papermill": {
     "duration": 0.017392,
     "end_time": "2024-03-16T20:56:27.673094",
     "exception": false,
     "start_time": "2024-03-16T20:56:27.655702",
     "status": "completed"
    },
    "tags": []
   },
   "outputs": [
    {
     "name": "stdout",
     "output_type": "stream",
     "text": [
      "Mean Absolute Error: 0.7493677618269309\n"
     ]
    }
   ],
   "source": [
    "print('Mean Absolute Error:',metrics.mean_absolute_error(y_test,predicted))"
   ]
  },
  {
   "cell_type": "code",
   "execution_count": 19,
   "id": "4f268480",
   "metadata": {
    "execution": {
     "iopub.execute_input": "2024-03-16T20:56:27.689937Z",
     "iopub.status.busy": "2024-03-16T20:56:27.689517Z",
     "iopub.status.idle": "2024-03-16T20:56:28.021162Z",
     "shell.execute_reply": "2024-03-16T20:56:28.020015Z"
    },
    "papermill": {
     "duration": 0.343037,
     "end_time": "2024-03-16T20:56:28.023499",
     "exception": false,
     "start_time": "2024-03-16T20:56:27.680462",
     "status": "completed"
    },
    "tags": []
   },
   "outputs": [
    {
     "data": {
      "text/plain": [
       "<Axes: ylabel='Density'>"
      ]
     },
     "execution_count": 19,
     "metadata": {},
     "output_type": "execute_result"
    },
    {
     "data": {
      "image/png": "[encoded data removed]",
      "text/plain": [
       "<Figure size 640x480 with 1 Axes>"
      ]
     },
     "metadata": {},
     "output_type": "display_data"
    }
   ],
   "source": [
    "graph=newdf.head(100)\n",
    "graph.plot(kind='kde')"
   ]
  },
  {
   "cell_type": "markdown",
   "id": "bf19c667",
   "metadata": {
    "papermill": {
     "duration": 0.007972,
     "end_time": "2024-03-16T20:56:28.039478",
     "exception": false,
     "start_time": "2024-03-16T20:56:28.031506",
     "status": "completed"
    },
    "tags": []
   },
   "source": [
    "So this is the Actual vs Predicted Price of zomato share price"
   ]
  }
 ],
 "metadata": {
  "kaggle": {
   "accelerator": "none",
   "dataSources": [
    {
     "datasetId": 4416565,
     "sourceId": 7587777,
     "sourceType": "datasetVersion"
    }
   ],
   "dockerImageVersionId": 30646,
   "isGpuEnabled": false,
   "isInternetEnabled": true,
   "language": "python",
   "sourceType": "notebook"
  },
  "kernelspec": {
   "display_name": "Python 3",
   "language": "python",
   "name": "python3"
  },
  "language_info": {
   "codemirror_mode": {
    "name": "ipython",
    "version": 3
   },
   "file_extension": ".py",
   "mimetype": "text/x-python",
   "name": "python",
   "nbconvert_exporter": "python",
   "pygments_lexer": "ipython3",
   "version": "3.10.13"
  },
  "papermill": {
   "default_parameters": {},
   "duration": 11.027879,
   "end_time": "2024-03-16T20:56:28.868515",
   "environment_variables": {},
   "exception": null,
   "input_path": "__notebook__.ipynb",
   "output_path": "__notebook__.ipynb",
   "parameters": {},
   "start_time": "2024-03-16T20:56:17.840636",
   "version": "2.5.0"
  }
 },
 "nbformat": 4,
 "nbformat_minor": 5
}
